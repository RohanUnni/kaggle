{
 "cells": [
  {
   "cell_type": "code",
   "execution_count": 1,
   "metadata": {},
   "outputs": [],
   "source": [
    "#Import mandatory libraries \n",
    "import pandas as pd\n",
    "import numpy as np\n",
    "import matplotlib.pyplot as plt\n",
    "\n",
    "\n",
    "#Crossvalidation methods\n",
    "from sklearn.model_selection import train_test_split, KFold, cross_val_score\n",
    "\n",
    "#ML Algorithms\n",
    "from sklearn.linear_model import LogisticRegression\n",
    "from sklearn.tree import DecisionTreeClassifier   # Feature Selection\n",
    "from sklearn.metrics import accuracy_score, roc_curve,auc\n",
    "from sklearn.pipeline import Pipeline\n",
    "from sklearn.model_selection import GridSearchCV"
   ]
  },
  {
   "cell_type": "markdown",
   "metadata": {},
   "source": [
    "## Feature Imputing"
   ]
  },
  {
   "cell_type": "code",
   "execution_count": 169,
   "metadata": {},
   "outputs": [],
   "source": [
    "df = pd.read_csv(\"./data/WA_Fn-UseC_-Telco-Customer-Churn.csv\")\n",
    "df.drop(columns=\"customerID\",inplace=True)\n",
    "\n",
    "df[\"TotalCharges\"][df[\"TotalCharges\"] == \" \"] = 0 \n",
    "df[\"TotalCharges\"] = df[\"TotalCharges\"].astype(\"float\")\n",
    "\n",
    "#Hot one encoding using get dummines\n",
    "df = pd.get_dummies(df, drop_first=True) #one hot encoding\n",
    "\n",
    "X = df.drop(columns=\"Churn_Yes\",axis=1)\n",
    "y = df[\"Churn_Yes\"]\n",
    "X_train, X_test, y_train, y_test = train_test_split(X,y, random_state = 1000, test_size = 0.3)"
   ]
  },
  {
   "cell_type": "markdown",
   "metadata": {},
   "source": [
    "## Model"
   ]
  },
  {
   "cell_type": "code",
   "execution_count": 170,
   "metadata": {},
   "outputs": [
    {
     "name": "stdout",
     "output_type": "stream",
     "text": [
      "accuracy : 0.8026502602934217\n",
      "cross_val_score : [0.80474453 0.79075426 0.81546894]\n",
      "fpr : [0.         0.10114504 1.        ]\n",
      "tpr : [0.         0.52310536 1.        ]\n",
      "thresholds : [2 1 0]\n",
      "auc : 0.7109801611378419\n"
     ]
    }
   ],
   "source": [
    "#################             Logistic Regression      ######################\n",
    "\n",
    "lgr = LogisticRegression()\n",
    "lgr.fit(X_train,y_train)\n",
    "y_pred = lgr.predict(X_test)\n",
    "\n",
    "fpr, tpr, thresholds = roc_curve(y_test, y_pred, pos_label=1)\n",
    "auc = auc(fpr,tpr)\n",
    "\n",
    "print(\"accuracy : {}\".format(accuracy_score(y_test,y_pred)))\n",
    "print(\"cross_val_score : {}\".format(cross_val_score(lgr.fit(X_train,y_train),X_train,y_train)))\n",
    "print(\"fpr : {}\".format(fpr))\n",
    "print(\"tpr : {}\".format(tpr))\n",
    "print(\"thresholds : {}\".format(thresholds))\n",
    "print(\"auc : {}\".format(auc))"
   ]
  },
  {
   "cell_type": "code",
   "execution_count": 177,
   "metadata": {},
   "outputs": [
    {
     "name": "stdout",
     "output_type": "stream",
     "text": [
      "accuracy : 0.722669190724089\n",
      "cross_val_score : [0.71289538 0.70924574 0.70950061]\n",
      "fpr : [0.         0.20229008 1.        ]\n",
      "tpr : [0.         0.50462107 1.        ]\n",
      "thresholds : [2 1 0]\n"
     ]
    }
   ],
   "source": [
    "##########              Decision Tree       ######################\n",
    "\n",
    "clf = DecisionTreeClassifier()\n",
    "clf.fit(X_train,y_train)\n",
    "y_pred1= clf.predict(X_test)\n",
    "\n",
    "fpr1, tpr1, thresholds = roc_curve(y_test, y_pred1, pos_label=1)\n",
    "#auc1 = auc(fpr1,tpr1)\n",
    "\n",
    "print(\"accuracy : {}\".format(accuracy_score(y_test,y_pred1)))\n",
    "print(\"cross_val_score : {}\".format(cross_val_score(clf.fit(X_train,y_train),X_train,y_train)))\n",
    "print(\"fpr : {}\".format(fpr1))\n",
    "print(\"tpr : {}\".format(tpr1))\n",
    "print(\"thresholds : {}\".format(thresholds))\n",
    "#print(\"auc : {}\".format(auc1))\n"
   ]
  },
  {
   "cell_type": "code",
   "execution_count": 179,
   "metadata": {},
   "outputs": [
    {
     "name": "stdout",
     "output_type": "stream",
     "text": [
      "accuracy : 0.792238523426408\n",
      "cross_val_score : [0.79440389 0.78345499 0.78928136]\n",
      "fpr : [0.        0.2086514 1.       ]\n",
      "tpr : [0.         0.50277264 1.        ]\n",
      "thresholds : [2 1 0]\n",
      "{'Decision_Tree__criterion': 'gini', 'Decision_Tree__max_depth': 3, 'Decision_Tree__min_samples_leaf': 1}\n"
     ]
    }
   ],
   "source": [
    "##########              Grid Search        ######################\n",
    "\n",
    "pipeline = Pipeline(steps=[('Decision_Tree', clf)])\n",
    "\n",
    "params = {'Decision_Tree__criterion': ['gini','entropy'],\n",
    "          'Decision_Tree__max_depth': [2,3,4,5],\n",
    "          'Decision_Tree__min_samples_leaf': [1,2,3,4,5]}\n",
    "\n",
    "grid_search = GridSearchCV(estimator=pipeline, param_grid=params)\n",
    "grid_search.fit(X_train,y_train)\n",
    "y_prediction = grid_search.predict(X_test)\n",
    "\n",
    "fpr, tpr, thresholds = roc_curve(y_test, y_pred, pos_label=1)\n",
    "#auc = auc(fpr,tpr)\n",
    "\n",
    "print(\"accuracy : {}\".format(accuracy_score(y_test,y_prediction)))\n",
    "print(\"cross_val_score : {}\".format(cross_val_score(grid_search.best_estimator_,X_train,y_train)))\n",
    "print(\"fpr : {}\".format(fpr))\n",
    "print(\"tpr : {}\".format(tpr))\n",
    "print(\"thresholds : {}\".format(thresholds))\n",
    "#print(\"auc : {}\".format(auc))\n",
    "print(grid_search.best_params_)"
   ]
  },
  {
   "cell_type": "code",
   "execution_count": null,
   "metadata": {},
   "outputs": [],
   "source": []
  },
  {
   "cell_type": "code",
   "execution_count": null,
   "metadata": {},
   "outputs": [],
   "source": []
  }
 ],
 "metadata": {
  "kernelspec": {
   "display_name": "Python 3",
   "language": "python",
   "name": "python3"
  },
  "language_info": {
   "codemirror_mode": {
    "name": "ipython",
    "version": 3
   },
   "file_extension": ".py",
   "mimetype": "text/x-python",
   "name": "python",
   "nbconvert_exporter": "python",
   "pygments_lexer": "ipython3",
   "version": "3.6.5"
  }
 },
 "nbformat": 4,
 "nbformat_minor": 2
}
